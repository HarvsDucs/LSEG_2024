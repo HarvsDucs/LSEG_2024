{
 "cells": [
  {
   "cell_type": "code",
   "execution_count": null,
   "id": "7eb6e80f",
   "metadata": {},
   "outputs": [],
   "source": [
    "import os\n",
    "import pandas as pd\n",
    "from sklearn.preprocessing import StandardScaler\n",
    "import numpy as np\n",
    "\n",
    "# Define the root path\n",
    "root_path = r\"C:\\Users\\Harvey\\Downloads\\AI_index_nov17\"\n",
    "\n",
    "# Initialize a list to store scaled closing prices\n",
    "scaled_closing_prices = []\n",
    "\n",
    "# Number of rows to consider\n",
    "num_rows_to_consider = 51\n",
    "\n",
    "# Loop through all files in the directory\n",
    "for filename in os.listdir(root_path):\n",
    "    if filename.endswith(\".csv\"):  # Ensure it's a CSV file\n",
    "        file_path = os.path.join(root_path, filename)\n",
    "        df_name = filename.split(\".\")[0]  # Extract the base name of the file\n",
    "\n",
    "        # Read the CSV into a DataFrame\n",
    "        df = pd.read_csv(file_path)\n",
    "\n",
    "        # Ensure the 'Closing Price' column exists\n",
    "        if \"close\" in df.columns:\n",
    "            # Consider only the first `num_rows_to_consider` rows\n",
    "            df_subset = df.head(num_rows_to_consider)\n",
    "\n",
    "            # Scale the closing price\n",
    "            scaler = StandardScaler()\n",
    "            scaled_values = scaler.fit_transform(df_subset[[\"close\"]])  # Standardize\n",
    "\n",
    "            # Append flattened array of scaled values to the list\n",
    "            scaled_closing_prices.append(scaled_values.flatten())\n",
    "\n",
    "# Ensure all arrays have exactly `num_rows_to_consider` rows\n",
    "scaled_closing_prices = [\n",
    "    arr[:num_rows_to_consider] for arr in scaled_closing_prices\n",
    "]\n",
    "\n",
    "# Combine all scaled closing prices into a single array\n",
    "all_scaled_values = np.column_stack(scaled_closing_prices)  # Create a 2D array (rows: stocks, cols: companies)\n",
    "\n",
    "# Calculate the average of scaled values (index)\n",
    "average_index = np.mean(all_scaled_values, axis=1)\n",
    "\n",
    "# Create a DataFrame for the index\n",
    "index_df = pd.DataFrame({\n",
    "    \"Index\": average_index\n",
    "})\n",
    "\n",
    "# Save the index to a CSV file\n",
    "index_df.to_csv(r\"C:\\Users\\Harvey\\Downloads\\AI_index_nov17\\AI_index.csv\", index=False)\n",
    "\n",
    "print(\"AI Index created and saved as AI_index.csv\")\n"
   ]
  }
 ],
 "metadata": {
  "kernelspec": {
   "display_name": "Python 3 (ipykernel)",
   "language": "python",
   "name": "python3"
  },
  "language_info": {
   "codemirror_mode": {
    "name": "ipython",
    "version": 3
   },
   "file_extension": ".py",
   "mimetype": "text/x-python",
   "name": "python",
   "nbconvert_exporter": "python",
   "pygments_lexer": "ipython3",
   "version": "3.9.13"
  }
 },
 "nbformat": 4,
 "nbformat_minor": 5
}
