import os
import pandas as pd
from sklearn.preprocessing import StandardScaler
import numpy as np

# Define the root path
root_path = r"C:\Users\Harvey\Downloads\AI_index_nov17"

# Initialize a list to store scaled closing prices
scaled_closing_prices = []

# Number of rows to consider
num_rows_to_consider = 51

# Loop through all files in the directory
for filename in os.listdir(root_path):
    if filename.endswith(".csv"):  # Ensure it's a CSV file
        file_path = os.path.join(root_path, filename)
        df_name = filename.split(".")[0]  # Extract the base name of the file

        # Read the CSV into a DataFrame
        df = pd.read_csv(file_path)

        # Ensure the 'Closing Price' column exists
        if "close" in df.columns:
            # Consider only the first `num_rows_to_consider` rows
            df_subset = df.head(num_rows_to_consider)

            # Scale the closing price
            scaler = StandardScaler()
            scaled_values = scaler.fit_transform(df_subset[["close"]])  # Standardize

            # Append flattened array of scaled values to the list
            scaled_closing_prices.append(scaled_values.flatten())

# Ensure all arrays have exactly `num_rows_to_consider` rows
scaled_closing_prices = [
    arr[:num_rows_to_consider] for arr in scaled_closing_prices
]

# Combine all scaled closing prices into a single array
all_scaled_values = np.column_stack(scaled_closing_prices)  # Create a 2D array (rows: stocks, cols: companies)

# Calculate the average of scaled values (index)
average_index = np.mean(all_scaled_values, axis=1)

# Create a DataFrame for the index
index_df = pd.DataFrame({
    "Index": average_index
})

# Save the index to a CSV file
index_df.to_csv(r"C:\Users\Harvey\Downloads\AI_index_nov17\AI_index.csv", index=False)

print("AI Index created and saved as AI_index.csv")
